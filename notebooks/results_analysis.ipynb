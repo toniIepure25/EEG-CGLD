{
 "cells": [
  {
   "cell_type": "markdown",
   "id": "d0bc3f5e",
   "metadata": {},
   "source": [
    "## 1.Load MLflow Metrics"
   ]
  },
  {
   "cell_type": "markdown",
   "id": "ed8ee3bc",
   "metadata": {},
   "source": [
    "import mlflow\n",
    "import pandas as pd\n",
    "\n",
    "client = mlflow.tracking.MlflowClient(mlflow.get_tracking_uri())\n",
    "runs = client.search_runs(experiment_ids=[\"<your_experiment_id>\"], \n",
    "                          filter_string=\"\",  # or filter by tags\n",
    "                          output_format=\"pandas\")\n",
    "# Now `runs` is a DataFrame with columns: params.ssa.n_imfs, params.feature_extraction.ds, \n",
    "# params.cnn.embedding_dim, metrics.avg_test_accuracy_mat, ...\n"
   ]
  },
  {
   "cell_type": "markdown",
   "id": "40dc4835",
   "metadata": {},
   "source": [
    "## 2.Accuracy Heatmap"
   ]
  },
  {
   "cell_type": "code",
   "execution_count": null,
   "id": "68807a04",
   "metadata": {
    "vscode": {
     "languageId": "plaintext"
    }
   },
   "outputs": [],
   "source": [
    "import seaborn as sns\n",
    "import matplotlib.pyplot as plt\n",
    "\n",
    "# Suppose you pivot on n_imfs and embedding_dim (for MAT dataset)\n",
    "pivot = runs.pivot_table(\n",
    "    index=\"params.ssa.n_imfs\",\n",
    "    columns=\"params.cnn.embedding_dim\",\n",
    "    values=\"metrics.avg_test_accuracy_mat\"\n",
    ")\n",
    "plt.figure(figsize=(6, 4))\n",
    "sns.heatmap(pivot, annot=True, fmt=\".3f\", cmap=\"viridis\")\n",
    "plt.title(\"MAT Accuracy by (n_imfs × embedding_dim)\")\n",
    "plt.ylabel(\"n_imfs\")\n",
    "plt.xlabel(\"embedding_dim\")\n",
    "plt.tight_layout()\n",
    "plt.savefig(\"results/figures/accuracy_heatmap_mat.png\", dpi=300)\n"
   ]
  },
  {
   "cell_type": "markdown",
   "id": "a8712045",
   "metadata": {},
   "source": [
    "## 3.Bar Chart of Nested‐CV vs. Single‐Split"
   ]
  },
  {
   "cell_type": "code",
   "execution_count": null,
   "id": "fc80cb2d",
   "metadata": {
    "vscode": {
     "languageId": "plaintext"
    }
   },
   "outputs": [],
   "source": [
    "# Filter runs by a tag or param\n",
    "train_test_runs = runs[runs[\"params.evaluation.strategy\"] == \"train_test\"]\n",
    "nested_cv_runs = runs[runs[\"params.evaluation.strategy\"] == \"nested_cv\"]\n",
    "\n",
    "acc_tt = train_test_runs[\"metrics.avg_test_accuracy_mat\"].astype(float)\n",
    "acc_nc = nested_cv_runs[\"metrics.avg_test_accuracy_mat\"].astype(float)\n",
    "\n",
    "data = pd.DataFrame({\n",
    "    \"Strategy\": [\"train_test\"] * len(acc_tt) + [\"nested_cv\"] * len(acc_nc),\n",
    "    \"Accuracy\": np.concatenate([acc_tt.values, acc_nc.values])\n",
    "})\n",
    "\n",
    "plt.figure(figsize=(5, 4))\n",
    "sns.boxplot(x=\"Strategy\", y=\"Accuracy\", data=data)\n",
    "sns.stripplot(x=\"Strategy\", y=\"Accuracy\", data=data, color=\"black\", alpha=0.5)\n",
    "plt.title(\"Test Accuracy: Train/Test vs. Nested CV (MAT)\")\n",
    "plt.tight_layout()\n",
    "plt.savefig(\"results/figures/acc_comparison_boxplot.png\", dpi=300)\n"
   ]
  },
  {
   "cell_type": "markdown",
   "id": "05e179ab",
   "metadata": {},
   "source": [
    "## 4.Confusion Matrix Montage"
   ]
  },
  {
   "cell_type": "code",
   "execution_count": null,
   "id": "b939800c",
   "metadata": {
    "vscode": {
     "languageId": "plaintext"
    }
   },
   "outputs": [],
   "source": [
    "import matplotlib.pyplot as plt\n",
    "import matplotlib.image as mpimg\n",
    "import glob\n",
    "\n",
    "fig, axes = plt.subplots(1, 5, figsize=(15, 3))  # assume 5 folds\n",
    "cm_paths = sorted(glob.glob(\"results/figures/mat/outer_fold_*/confusion_matrix.png\"))\n",
    "for ax, img_path in zip(axes, cm_paths):\n",
    "    img = mpimg.imread(img_path)\n",
    "    ax.imshow(img)\n",
    "    ax.axis(\"off\")\n",
    "    ax.set_title(os.path.basename(os.path.dirname(img_path)))\n",
    "plt.tight_layout()\n",
    "plt.savefig(\"results/figures/cm_montage_mat.png\", dpi=300)\n"
   ]
  },
  {
   "cell_type": "markdown",
   "id": "4884e0c6",
   "metadata": {},
   "source": [
    "## 5.SHAP Summary Montage"
   ]
  }
 ],
 "metadata": {
  "language_info": {
   "name": "python"
  }
 },
 "nbformat": 4,
 "nbformat_minor": 5
}
